{
 "cells": [
  {
   "cell_type": "code",
   "execution_count": 1,
   "metadata": {
    "collapsed": false
   },
   "outputs": [
    {
     "name": "stdout",
     "output_type": "stream",
     "text": [
      "Extracting MNIST_data/train-images-idx3-ubyte.gz\n",
      "Extracting MNIST_data/train-labels-idx1-ubyte.gz\n",
      "Extracting MNIST_data/t10k-images-idx3-ubyte.gz\n",
      "Extracting MNIST_data/t10k-labels-idx1-ubyte.gz\n"
     ]
    }
   ],
   "source": [
    "import mnist_input\n",
    "import mnist_model\n",
    "reload(mnist_model)\n",
    "import numpy as np\n",
    "import tensorflow as tf\n",
    "import mnist_util\n",
    "reload(mnist_util)\n",
    "mnist = mnist_input.read_data_sets('MNIST_data', one_hot=True)"
   ]
  },
  {
   "cell_type": "code",
   "execution_count": 2,
   "metadata": {
    "collapsed": false
   },
   "outputs": [],
   "source": [
    "import pickle\n",
    "with open(\"/home/justin/Programming/AdverserialMNIST/saved_models/l1reg_C20000_results.pkl\", \"rb\") as pkl_file:\n",
    "    df_l1 = pickle.load(pkl_file)\n",
    "with open(\"/home/justin/Programming/AdverserialMNIST/saved_models/baseline_results.pkl\", \"rb\") as pkl_file:\n",
    "    df_baseline = pickle.load(pkl_file)"
   ]
  },
  {
   "cell_type": "code",
   "execution_count": 5,
   "metadata": {
    "collapsed": false
   },
   "outputs": [
    {
     "name": "stdout",
     "output_type": "stream",
     "text": [
      "43008 17670\n",
      "16902 0\n"
     ]
    }
   ],
   "source": [
    "df_l1[\"Fooling Image (Y/N)\"] = df_l1.apply(lambda row: row[\"Predicted Label\"] != row[\"Predicted Label Adverserial\"],\n",
    "                                     axis = 1)\n",
    "print sum(df_l1[\"Fooling Image (Y/N)\"]), df_l1[\"Gradient Norm\"].isnull().sum()\n",
    "df_baseline[\"Fooling Image (Y/N)\"] = df_baseline.apply(lambda row: row[\"Predicted Label\"] != row[\"Predicted Label Adverserial\"],\n",
    "                                     axis = 1)\n",
    "print sum(df_baseline[\"Fooling Image (Y/N)\"]), df_baseline[\"Gradient Norm\"].isnull().sum()\n"
   ]
  },
  {
   "cell_type": "code",
   "execution_count": 4,
   "metadata": {
    "collapsed": false
   },
   "outputs": [
    {
     "data": {
      "text/plain": [
       "array(['Adverserial Image', 'Gradient', 'Gradient Norm', 'Gradient Step',\n",
       "       'Idx', 'Image', 'Predicted Label', 'Predicted Label Adverserial',\n",
       "       'Predicted Probs', 'Predicted Probs Adverserial', 'True Label'], dtype=object)"
      ]
     },
     "execution_count": 4,
     "metadata": {},
     "output_type": "execute_result"
    }
   ],
   "source": [
    "df_baseline.columns.values"
   ]
  },
  {
   "cell_type": "code",
   "execution_count": 7,
   "metadata": {
    "collapsed": false
   },
   "outputs": [
    {
     "data": {
      "text/plain": [
       "count    8.233000e+04\n",
       "mean     1.191469e+01\n",
       "std      1.181663e+02\n",
       "min      2.472408e-27\n",
       "25%      7.834946e-17\n",
       "50%      5.449561e-13\n",
       "75%      2.828740e-09\n",
       "max      2.171526e+03\n",
       "Name: Gradient Norm, dtype: float64"
      ]
     },
     "execution_count": 7,
     "metadata": {},
     "output_type": "execute_result"
    }
   ],
   "source": [
    "df_l1[\"Gradient Norm\"].describe()"
   ]
  },
  {
   "cell_type": "code",
   "execution_count": 6,
   "metadata": {
    "collapsed": false
   },
   "outputs": [
    {
     "data": {
      "text/plain": [
       "count    1.000000e+05\n",
       "mean     2.860211e+00\n",
       "std      2.359283e+01\n",
       "min      2.721991e-14\n",
       "25%      8.332103e-07\n",
       "50%      5.449513e-05\n",
       "75%      1.730353e-03\n",
       "max      3.747029e+02\n",
       "Name: Gradient Norm, dtype: float64"
      ]
     },
     "execution_count": 6,
     "metadata": {},
     "output_type": "execute_result"
    }
   ],
   "source": [
    "df_baseline[\"Gradient Norm\"].describe()"
   ]
  },
  {
   "cell_type": "code",
   "execution_count": 20,
   "metadata": {
    "collapsed": false
   },
   "outputs": [
    {
     "data": {
      "text/plain": [
       "4    4700\n",
       "8    2870\n",
       "3    2560\n",
       "2    2490\n",
       "6    1750\n",
       "5    1460\n",
       "9    1200\n",
       "7     630\n",
       "0      10\n",
       "Name: True Label, dtype: int64"
      ]
     },
     "execution_count": 20,
     "metadata": {},
     "output_type": "execute_result"
    }
   ],
   "source": [
    "null_grads = df_l1[df_l1[\"Gradient Norm\"].isnull()]\n",
    "null_grads[\"True Label\"].value_counts()"
   ]
  },
  {
   "cell_type": "code",
   "execution_count": null,
   "metadata": {
    "collapsed": true
   },
   "outputs": [],
   "source": []
  },
  {
   "cell_type": "code",
   "execution_count": 8,
   "metadata": {
    "collapsed": false
   },
   "outputs": [
    {
     "data": {
      "text/html": [
       "<div>\n",
       "<table border=\"1\" class=\"dataframe\">\n",
       "  <thead>\n",
       "    <tr style=\"text-align: right;\">\n",
       "      <th></th>\n",
       "      <th>mean</th>\n",
       "      <th>sum</th>\n",
       "    </tr>\n",
       "    <tr>\n",
       "      <th>Gradient Step</th>\n",
       "      <th></th>\n",
       "      <th></th>\n",
       "    </tr>\n",
       "  </thead>\n",
       "  <tbody>\n",
       "    <tr>\n",
       "      <th>0.01</th>\n",
       "      <td>0.1962</td>\n",
       "      <td>1962</td>\n",
       "    </tr>\n",
       "    <tr>\n",
       "      <th>0.02</th>\n",
       "      <td>0.2319</td>\n",
       "      <td>2319</td>\n",
       "    </tr>\n",
       "    <tr>\n",
       "      <th>0.03</th>\n",
       "      <td>0.2814</td>\n",
       "      <td>2814</td>\n",
       "    </tr>\n",
       "    <tr>\n",
       "      <th>0.04</th>\n",
       "      <td>0.3405</td>\n",
       "      <td>3405</td>\n",
       "    </tr>\n",
       "    <tr>\n",
       "      <th>0.05</th>\n",
       "      <td>0.4078</td>\n",
       "      <td>4078</td>\n",
       "    </tr>\n",
       "    <tr>\n",
       "      <th>0.06</th>\n",
       "      <td>0.4711</td>\n",
       "      <td>4711</td>\n",
       "    </tr>\n",
       "    <tr>\n",
       "      <th>0.07</th>\n",
       "      <td>0.5279</td>\n",
       "      <td>5279</td>\n",
       "    </tr>\n",
       "    <tr>\n",
       "      <th>0.08</th>\n",
       "      <td>0.5778</td>\n",
       "      <td>5778</td>\n",
       "    </tr>\n",
       "    <tr>\n",
       "      <th>0.09</th>\n",
       "      <td>0.6166</td>\n",
       "      <td>6166</td>\n",
       "    </tr>\n",
       "    <tr>\n",
       "      <th>0.10</th>\n",
       "      <td>0.6496</td>\n",
       "      <td>6496</td>\n",
       "    </tr>\n",
       "  </tbody>\n",
       "</table>\n",
       "</div>"
      ],
      "text/plain": [
       "                 mean   sum\n",
       "Gradient Step              \n",
       "0.01           0.1962  1962\n",
       "0.02           0.2319  2319\n",
       "0.03           0.2814  2814\n",
       "0.04           0.3405  3405\n",
       "0.05           0.4078  4078\n",
       "0.06           0.4711  4711\n",
       "0.07           0.5279  5279\n",
       "0.08           0.5778  5778\n",
       "0.09           0.6166  6166\n",
       "0.10           0.6496  6496"
      ]
     },
     "execution_count": 8,
     "metadata": {},
     "output_type": "execute_result"
    }
   ],
   "source": [
    "grouped = df_l1.groupby(\"Gradient Step\")[\"Fooling Image (Y/N)\"].aggregate([np.mean, np.sum])\n",
    "grouped"
   ]
  },
  {
   "cell_type": "code",
   "execution_count": 10,
   "metadata": {
    "collapsed": false
   },
   "outputs": [
    {
     "data": {
      "text/html": [
       "<div>\n",
       "<table border=\"1\" class=\"dataframe\">\n",
       "  <thead>\n",
       "    <tr style=\"text-align: right;\">\n",
       "      <th></th>\n",
       "      <th>mean</th>\n",
       "      <th>sum</th>\n",
       "    </tr>\n",
       "    <tr>\n",
       "      <th>Gradient Step</th>\n",
       "      <th></th>\n",
       "      <th></th>\n",
       "    </tr>\n",
       "  </thead>\n",
       "  <tbody>\n",
       "    <tr>\n",
       "      <th>0.01</th>\n",
       "      <td>0.0090</td>\n",
       "      <td>90</td>\n",
       "    </tr>\n",
       "    <tr>\n",
       "      <th>0.02</th>\n",
       "      <td>0.0230</td>\n",
       "      <td>230</td>\n",
       "    </tr>\n",
       "    <tr>\n",
       "      <th>0.03</th>\n",
       "      <td>0.0405</td>\n",
       "      <td>405</td>\n",
       "    </tr>\n",
       "    <tr>\n",
       "      <th>0.04</th>\n",
       "      <td>0.0705</td>\n",
       "      <td>705</td>\n",
       "    </tr>\n",
       "    <tr>\n",
       "      <th>0.05</th>\n",
       "      <td>0.1120</td>\n",
       "      <td>1120</td>\n",
       "    </tr>\n",
       "    <tr>\n",
       "      <th>0.06</th>\n",
       "      <td>0.1619</td>\n",
       "      <td>1619</td>\n",
       "    </tr>\n",
       "    <tr>\n",
       "      <th>0.07</th>\n",
       "      <td>0.2221</td>\n",
       "      <td>2221</td>\n",
       "    </tr>\n",
       "    <tr>\n",
       "      <th>0.08</th>\n",
       "      <td>0.2913</td>\n",
       "      <td>2913</td>\n",
       "    </tr>\n",
       "    <tr>\n",
       "      <th>0.09</th>\n",
       "      <td>0.3516</td>\n",
       "      <td>3516</td>\n",
       "    </tr>\n",
       "    <tr>\n",
       "      <th>0.10</th>\n",
       "      <td>0.4083</td>\n",
       "      <td>4083</td>\n",
       "    </tr>\n",
       "  </tbody>\n",
       "</table>\n",
       "</div>"
      ],
      "text/plain": [
       "                 mean   sum\n",
       "Gradient Step              \n",
       "0.01           0.0090    90\n",
       "0.02           0.0230   230\n",
       "0.03           0.0405   405\n",
       "0.04           0.0705   705\n",
       "0.05           0.1120  1120\n",
       "0.06           0.1619  1619\n",
       "0.07           0.2221  2221\n",
       "0.08           0.2913  2913\n",
       "0.09           0.3516  3516\n",
       "0.10           0.4083  4083"
      ]
     },
     "execution_count": 10,
     "metadata": {},
     "output_type": "execute_result"
    }
   ],
   "source": [
    "grouped = df_baseline.groupby(\"Gradient Step\")[\"Fooling Image (Y/N)\"].aggregate([np.mean, np.sum])\n",
    "grouped"
   ]
  },
  {
   "cell_type": "code",
   "execution_count": 21,
   "metadata": {
    "collapsed": false
   },
   "outputs": [
    {
     "name": "stdout",
     "output_type": "stream",
     "text": [
      "25338\n",
      "16902\n"
     ]
    }
   ],
   "source": [
    "bad_samples_l1 = df_l1[df_l1.apply(lambda row: row[\"Predicted Label\"] != \\\n",
    "                          row[\"Predicted Label Adverserial\"], axis = 1)].dropna(subset = [\"Gradient Norm\"])\n",
    "print len(bad_samples_l1)\n",
    "bad_samples_baseline = df_baseline[df_baseline.apply(lambda row: row[\"Predicted Label\"] != \\\n",
    "                          row[\"Predicted Label Adverserial\"], axis = 1)].dropna(subset = [\"Gradient Norm\"])\n",
    "print len(bad_samples_baseline)"
   ]
  },
  {
   "cell_type": "code",
   "execution_count": 22,
   "metadata": {
    "collapsed": false
   },
   "outputs": [
    {
     "data": {
      "text/plain": [
       "9    3628\n",
       "8    2099\n",
       "7    2055\n",
       "2    1815\n",
       "5    1659\n",
       "3    1579\n",
       "4    1500\n",
       "6    1020\n",
       "0     929\n",
       "1     618\n",
       "Name: True Label, dtype: int64"
      ]
     },
     "execution_count": 22,
     "metadata": {},
     "output_type": "execute_result"
    }
   ],
   "source": [
    "bad_samples_baseline[\"True Label\"].value_counts()"
   ]
  },
  {
   "cell_type": "code",
   "execution_count": 19,
   "metadata": {
    "collapsed": false
   },
   "outputs": [
    {
     "data": {
      "text/html": [
       "<div>\n",
       "<table border=\"1\" class=\"dataframe\">\n",
       "  <thead>\n",
       "    <tr style=\"text-align: right;\">\n",
       "      <th></th>\n",
       "      <th>True Label</th>\n",
       "      <th>Predicted Label</th>\n",
       "      <th>Predicted Label Adverserial</th>\n",
       "      <th>Gradient Norm</th>\n",
       "    </tr>\n",
       "  </thead>\n",
       "  <tbody>\n",
       "    <tr>\n",
       "      <th>22</th>\n",
       "      <td>1</td>\n",
       "      <td>1</td>\n",
       "      <td>4</td>\n",
       "      <td>1.346662e-11</td>\n",
       "    </tr>\n",
       "    <tr>\n",
       "      <th>23</th>\n",
       "      <td>1</td>\n",
       "      <td>1</td>\n",
       "      <td>4</td>\n",
       "      <td>1.346662e-11</td>\n",
       "    </tr>\n",
       "    <tr>\n",
       "      <th>24</th>\n",
       "      <td>1</td>\n",
       "      <td>1</td>\n",
       "      <td>4</td>\n",
       "      <td>1.346662e-11</td>\n",
       "    </tr>\n",
       "    <tr>\n",
       "      <th>25</th>\n",
       "      <td>1</td>\n",
       "      <td>1</td>\n",
       "      <td>4</td>\n",
       "      <td>1.346662e-11</td>\n",
       "    </tr>\n",
       "    <tr>\n",
       "      <th>26</th>\n",
       "      <td>1</td>\n",
       "      <td>1</td>\n",
       "      <td>4</td>\n",
       "      <td>1.346662e-11</td>\n",
       "    </tr>\n",
       "    <tr>\n",
       "      <th>27</th>\n",
       "      <td>1</td>\n",
       "      <td>1</td>\n",
       "      <td>4</td>\n",
       "      <td>1.346662e-11</td>\n",
       "    </tr>\n",
       "    <tr>\n",
       "      <th>28</th>\n",
       "      <td>1</td>\n",
       "      <td>1</td>\n",
       "      <td>4</td>\n",
       "      <td>1.346662e-11</td>\n",
       "    </tr>\n",
       "    <tr>\n",
       "      <th>29</th>\n",
       "      <td>1</td>\n",
       "      <td>1</td>\n",
       "      <td>4</td>\n",
       "      <td>1.346662e-11</td>\n",
       "    </tr>\n",
       "    <tr>\n",
       "      <th>61</th>\n",
       "      <td>4</td>\n",
       "      <td>4</td>\n",
       "      <td>9</td>\n",
       "      <td>2.889365e-10</td>\n",
       "    </tr>\n",
       "    <tr>\n",
       "      <th>62</th>\n",
       "      <td>4</td>\n",
       "      <td>4</td>\n",
       "      <td>9</td>\n",
       "      <td>2.889365e-10</td>\n",
       "    </tr>\n",
       "  </tbody>\n",
       "</table>\n",
       "</div>"
      ],
      "text/plain": [
       "    True Label  Predicted Label  Predicted Label Adverserial  Gradient Norm\n",
       "22           1                1                            4   1.346662e-11\n",
       "23           1                1                            4   1.346662e-11\n",
       "24           1                1                            4   1.346662e-11\n",
       "25           1                1                            4   1.346662e-11\n",
       "26           1                1                            4   1.346662e-11\n",
       "27           1                1                            4   1.346662e-11\n",
       "28           1                1                            4   1.346662e-11\n",
       "29           1                1                            4   1.346662e-11\n",
       "61           4                4                            9   2.889365e-10\n",
       "62           4                4                            9   2.889365e-10"
      ]
     },
     "execution_count": 19,
     "metadata": {},
     "output_type": "execute_result"
    }
   ],
   "source": [
    "bad_samples_l1[[\"True Label\", \"Predicted Label\", \"Predicted Label Adverserial\",\\\n",
    "                               \"Gradient Norm\"]][:10]"
   ]
  },
  {
   "cell_type": "code",
   "execution_count": 14,
   "metadata": {
    "collapsed": true
   },
   "outputs": [],
   "source": [
    "import matplotlib.pyplot as plt\n",
    "%matplotlib inline"
   ]
  },
  {
   "cell_type": "code",
   "execution_count": 15,
   "metadata": {
    "collapsed": false
   },
   "outputs": [
    {
     "name": "stdout",
     "output_type": "stream",
     "text": [
      "Predicted: 6\n"
     ]
    },
    {
     "data": {
      "image/png": "[encoded data removed]",
      "text/plain": [
       "<matplotlib.figure.Figure at 0x7f09d8211850>"
      ]
     },
     "metadata": {},
     "output_type": "display_data"
    },
    {
     "name": "stdout",
     "output_type": "stream",
     "text": [
      "Predicted Adverserial: 5\n"
     ]
    },
    {
     "data": {
      "image/png": "[encoded data removed]",
      "text/plain": [
       "<matplotlib.figure.Figure at 0x7f09d75b9e50>"
      ]
     },
     "metadata": {},
     "output_type": "display_data"
    }
   ],
   "source": [
    "idx = 40\n",
    "row = bad_samples.iloc[idx]\n",
    "img1 = row[\"Image\"]\n",
    "img2 = row[\"Adverserial Image\"]\n",
    "print \"Predicted: %d\" %row[\"Predicted Label\"]\n",
    "mnist_util.plot_mnist_digit(np.reshape(img1, [28,28]))\n",
    "\n",
    "print \"Predicted Adverserial: %d\" %row[\"Predicted Label Adverserial\"]\n",
    "mnist_util.plot_mnist_digit(np.reshape(img2, [28,28]))"
   ]
  },
  {
   "cell_type": "code",
   "execution_count": 34,
   "metadata": {
    "collapsed": false
   },
   "outputs": [
    {
     "data": {
      "text/plain": [
       "0.10    4083\n",
       "0.09    3516\n",
       "0.08    2913\n",
       "0.07    2221\n",
       "0.06    1619\n",
       "0.05    1120\n",
       "0.04     705\n",
       "0.03     405\n",
       "0.02     230\n",
       "0.01      90\n",
       "Name: Gradient Step, dtype: int64"
      ]
     },
     "execution_count": 34,
     "metadata": {},
     "output_type": "execute_result"
    }
   ],
   "source": [
    "bad_samples_baseline[\"Gradient Step\"].value_counts()"
   ]
  },
  {
   "cell_type": "code",
   "execution_count": 47,
   "metadata": {
    "collapsed": false
   },
   "outputs": [
    {
     "name": "stdout",
     "output_type": "stream",
     "text": [
      "2221\n",
      "1741264\n",
      "2.08709 -2.1991\n"
     ]
    },
    {
     "data": {
      "image/png": "[encoded data removed]",
      "text/plain": [
       "<matplotlib.figure.Figure at 0x7f09d451f690>"
      ]
     },
     "metadata": {},
     "output_type": "display_data"
    }
   ],
   "source": [
    "#plot histogram of the partials\n",
    "subset = bad_samples_baseline[bad_samples_baseline[\"Gradient Step\"] == .07]\n",
    "print len(subset)\n",
    "all_partials = []\n",
    "for grad in subset[\"Gradient\"].values:\n",
    "    all_partials.extend(grad[0])\n",
    "print len(all_partials)\n",
    "print max(all_partials), min(all_partials)\n",
    "plot = plt.hist(all_partials, bins = 50)"
   ]
  },
  {
   "cell_type": "code",
   "execution_count": 48,
   "metadata": {
    "collapsed": false
   },
   "outputs": [
    {
     "name": "stdout",
     "output_type": "stream",
     "text": [
      "3512\n",
      "2753408\n",
      "8.38758 -11.9846\n"
     ]
    },
    {
     "data": {
      "image/png": "[encoded data removed]",
      "text/plain": [
       "<matplotlib.figure.Figure at 0x7f09d5397590>"
      ]
     },
     "metadata": {},
     "output_type": "display_data"
    }
   ],
   "source": [
    "#plot histogram of the partials\n",
    "subset = bad_samples_l1[bad_samples_l1[\"Gradient Step\"] == .07]\n",
    "print len(subset)\n",
    "all_partials = []\n",
    "for grad in subset[\"Gradient\"].values:\n",
    "    all_partials.extend(grad[0])\n",
    "print len(all_partials)\n",
    "print max(all_partials), min(all_partials)\n",
    "plot = plt.hist(all_partials, bins = 50)"
   ]
  },
  {
   "cell_type": "code",
   "execution_count": 60,
   "metadata": {
    "collapsed": false
   },
   "outputs": [
    {
     "name": "stdout",
     "output_type": "stream",
     "text": [
      "40950 74930\n"
     ]
    }
   ],
   "source": [
    "print sum(df_baseline[\"Gradient Norm\"] < .00001), sum(df_l1[\"Gradient Norm\"] < .00001)"
   ]
  },
  {
   "cell_type": "code",
   "execution_count": 59,
   "metadata": {
    "collapsed": false
   },
   "outputs": [
    {
     "data": {
      "text/plain": [
       "17670"
      ]
     },
     "execution_count": 59,
     "metadata": {},
     "output_type": "execute_result"
    }
   ],
   "source": [
    "sum(df_l1[\"Gradient Norm\"].isnull())"
   ]
  },
  {
   "cell_type": "code",
   "execution_count": null,
   "metadata": {
    "collapsed": true
   },
   "outputs": [],
   "source": [
    "img = "
   ]
  }
 ],
 "metadata": {
  "kernelspec": {
   "display_name": "Python 2",
   "language": "python",
   "name": "python2"
  },
  "language_info": {
   "codemirror_mode": {
    "name": "ipython",
    "version": 2
   },
   "file_extension": ".py",
   "mimetype": "text/x-python",
   "name": "python",
   "nbconvert_exporter": "python",
   "pygments_lexer": "ipython2",
   "version": "2.7.10"
  }
 },
 "nbformat": 4,
 "nbformat_minor": 0
}
